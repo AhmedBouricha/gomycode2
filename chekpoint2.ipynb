{
 "cells": [
  {
   "cell_type": "code",
   "execution_count": 3,
   "id": "c3fb2a91",
   "metadata": {},
   "outputs": [
    {
     "name": "stdout",
     "output_type": "stream",
     "text": [
      "Bienvenue au jeu Devinez le nombre !\n",
      "Je pense à un nombre entre 1 et 100. Pouvez-vous deviner ce que c'est ?\n",
      "Entrez votre estimation : 55\n",
      "Votre estimation est trop faible. Devinez encore.\n",
      "Entrez votre estimation : 66\n",
      "Votre estimation est trop faible. Devinez encore.\n",
      "Entrez votre estimation : 77\n",
      "Votre estimation est trop faible. Devinez encore.\n",
      "Entrez votre estimation : 88\n",
      "Votre estimation est trop élevée. Devinez encore.\n",
      "Entrez votre estimation : 85\n",
      "Toutes nos félicitations ! Vous avez bien deviné le nombre !\n"
     ]
    }
   ],
   "source": [
    "import random\n",
    "\n",
    "def devinez_le_nombre():\n",
    "    print('Bienvenue au jeu Devinez le nombre !')\n",
    "    print('Je pense à un nombre entre 1 et 100. Pouvez-vous deviner ce que c\\'est ?')\n",
    "    x = random.randrange(1, 101)\n",
    "    y = 0\n",
    "    while y != x:\n",
    "        y = int(input(\"Entrez votre estimation : \"))\n",
    "        if y < x:\n",
    "            print(\"Votre estimation est trop faible. Devinez encore.\")\n",
    "        elif y > x:\n",
    "            print(\"Votre estimation est trop élevée. Devinez encore.\")\n",
    "    print(\"Toutes nos félicitations ! Vous avez bien deviné le nombre !\")\n",
    "\n",
    "devinez_le_nombre()"
   ]
  },
  {
   "cell_type": "code",
   "execution_count": null,
   "id": "69342e03",
   "metadata": {},
   "outputs": [],
   "source": []
  }
 ],
 "metadata": {
  "kernelspec": {
   "display_name": "Python 3 (ipykernel)",
   "language": "python",
   "name": "python3"
  },
  "language_info": {
   "codemirror_mode": {
    "name": "ipython",
    "version": 3
   },
   "file_extension": ".py",
   "mimetype": "text/x-python",
   "name": "python",
   "nbconvert_exporter": "python",
   "pygments_lexer": "ipython3",
   "version": "3.10.9"
  }
 },
 "nbformat": 4,
 "nbformat_minor": 5
}
